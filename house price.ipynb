{
 "cells": [
  {
   "cell_type": "code",
   "execution_count": 1,
   "metadata": {},
   "outputs": [],
   "source": [
    "import numpy as np\n",
    "import pandas as pd\n",
    "from sklearn.model_selection import train_test_split\n",
    "train_full_df = pd.read_csv(\"train.csv\")\n",
    "X_test = pd.read_csv(\"test.csv\")\n",
    "X = train_full_df.drop('SalePrice', axis = 1)\n",
    "y = train_full_df.SalePrice\n",
    "X_train, X_val, y_train, y_val = train_test_split(X, y, train_size = 0.8, test_size = 0.2, random_state = 1)\n"
   ]
  },
  {
   "cell_type": "code",
   "execution_count": 2,
   "metadata": {},
   "outputs": [
    {
     "name": "stdout",
     "output_type": "stream",
     "text": [
      "<class 'pandas.core.frame.DataFrame'>\n",
      "Int64Index: 1168 entries, 921 to 1061\n",
      "Data columns (total 80 columns):\n",
      " #   Column         Non-Null Count  Dtype  \n",
      "---  ------         --------------  -----  \n",
      " 0   Id             1168 non-null   int64  \n",
      " 1   MSSubClass     1168 non-null   int64  \n",
      " 2   MSZoning       1168 non-null   object \n",
      " 3   LotFrontage    959 non-null    float64\n",
      " 4   LotArea        1168 non-null   int64  \n",
      " 5   Street         1168 non-null   object \n",
      " 6   Alley          71 non-null     object \n",
      " 7   LotShape       1168 non-null   object \n",
      " 8   LandContour    1168 non-null   object \n",
      " 9   Utilities      1168 non-null   object \n",
      " 10  LotConfig      1168 non-null   object \n",
      " 11  LandSlope      1168 non-null   object \n",
      " 12  Neighborhood   1168 non-null   object \n",
      " 13  Condition1     1168 non-null   object \n",
      " 14  Condition2     1168 non-null   object \n",
      " 15  BldgType       1168 non-null   object \n",
      " 16  HouseStyle     1168 non-null   object \n",
      " 17  OverallQual    1168 non-null   int64  \n",
      " 18  OverallCond    1168 non-null   int64  \n",
      " 19  YearBuilt      1168 non-null   int64  \n",
      " 20  YearRemodAdd   1168 non-null   int64  \n",
      " 21  RoofStyle      1168 non-null   object \n",
      " 22  RoofMatl       1168 non-null   object \n",
      " 23  Exterior1st    1168 non-null   object \n",
      " 24  Exterior2nd    1168 non-null   object \n",
      " 25  MasVnrType     1160 non-null   object \n",
      " 26  MasVnrArea     1160 non-null   float64\n",
      " 27  ExterQual      1168 non-null   object \n",
      " 28  ExterCond      1168 non-null   object \n",
      " 29  Foundation     1168 non-null   object \n",
      " 30  BsmtQual       1138 non-null   object \n",
      " 31  BsmtCond       1138 non-null   object \n",
      " 32  BsmtExposure   1137 non-null   object \n",
      " 33  BsmtFinType1   1138 non-null   object \n",
      " 34  BsmtFinSF1     1168 non-null   int64  \n",
      " 35  BsmtFinType2   1137 non-null   object \n",
      " 36  BsmtFinSF2     1168 non-null   int64  \n",
      " 37  BsmtUnfSF      1168 non-null   int64  \n",
      " 38  TotalBsmtSF    1168 non-null   int64  \n",
      " 39  Heating        1168 non-null   object \n",
      " 40  HeatingQC      1168 non-null   object \n",
      " 41  CentralAir     1168 non-null   object \n",
      " 42  Electrical     1167 non-null   object \n",
      " 43  1stFlrSF       1168 non-null   int64  \n",
      " 44  2ndFlrSF       1168 non-null   int64  \n",
      " 45  LowQualFinSF   1168 non-null   int64  \n",
      " 46  GrLivArea      1168 non-null   int64  \n",
      " 47  BsmtFullBath   1168 non-null   int64  \n",
      " 48  BsmtHalfBath   1168 non-null   int64  \n",
      " 49  FullBath       1168 non-null   int64  \n",
      " 50  HalfBath       1168 non-null   int64  \n",
      " 51  BedroomAbvGr   1168 non-null   int64  \n",
      " 52  KitchenAbvGr   1168 non-null   int64  \n",
      " 53  KitchenQual    1168 non-null   object \n",
      " 54  TotRmsAbvGrd   1168 non-null   int64  \n",
      " 55  Functional     1168 non-null   object \n",
      " 56  Fireplaces     1168 non-null   int64  \n",
      " 57  FireplaceQu    620 non-null    object \n",
      " 58  GarageType     1107 non-null   object \n",
      " 59  GarageYrBlt    1107 non-null   float64\n",
      " 60  GarageFinish   1107 non-null   object \n",
      " 61  GarageCars     1168 non-null   int64  \n",
      " 62  GarageArea     1168 non-null   int64  \n",
      " 63  GarageQual     1107 non-null   object \n",
      " 64  GarageCond     1107 non-null   object \n",
      " 65  PavedDrive     1168 non-null   object \n",
      " 66  WoodDeckSF     1168 non-null   int64  \n",
      " 67  OpenPorchSF    1168 non-null   int64  \n",
      " 68  EnclosedPorch  1168 non-null   int64  \n",
      " 69  3SsnPorch      1168 non-null   int64  \n",
      " 70  ScreenPorch    1168 non-null   int64  \n",
      " 71  PoolArea       1168 non-null   int64  \n",
      " 72  PoolQC         5 non-null      object \n",
      " 73  Fence          214 non-null    object \n",
      " 74  MiscFeature    44 non-null     object \n",
      " 75  MiscVal        1168 non-null   int64  \n",
      " 76  MoSold         1168 non-null   int64  \n",
      " 77  YrSold         1168 non-null   int64  \n",
      " 78  SaleType       1168 non-null   object \n",
      " 79  SaleCondition  1168 non-null   object \n",
      "dtypes: float64(3), int64(34), object(43)\n",
      "memory usage: 739.1+ KB\n"
     ]
    }
   ],
   "source": [
    "X_train.info()"
   ]
  },
  {
   "cell_type": "code",
   "execution_count": 3,
   "metadata": {},
   "outputs": [
    {
     "name": "stdout",
     "output_type": "stream",
     "text": [
      "['MSZoning', 'Street', 'Alley', 'LotShape', 'LandContour', 'Utilities', 'LotConfig', 'LandSlope', 'Neighborhood', 'Condition1', 'Condition2', 'BldgType', 'HouseStyle', 'RoofStyle', 'RoofMatl', 'Exterior1st', 'Exterior2nd', 'MasVnrType', 'ExterQual', 'ExterCond', 'Foundation', 'BsmtQual', 'BsmtCond', 'BsmtExposure', 'BsmtFinType1', 'BsmtFinType2', 'Heating', 'HeatingQC', 'CentralAir', 'Electrical', 'KitchenQual', 'Functional', 'FireplaceQu', 'GarageType', 'GarageFinish', 'GarageQual', 'GarageCond', 'PavedDrive', 'PoolQC', 'Fence', 'MiscFeature', 'SaleType', 'SaleCondition']\n",
      "<class 'pandas.core.frame.DataFrame'>\n",
      "Int64Index: 1168 entries, 921 to 1061\n",
      "Data columns (total 80 columns):\n",
      " #   Column         Non-Null Count  Dtype  \n",
      "---  ------         --------------  -----  \n",
      " 0   Id             1168 non-null   int64  \n",
      " 1   MSSubClass     1168 non-null   int64  \n",
      " 2   MSZoning       1168 non-null   object \n",
      " 3   LotFrontage    959 non-null    float64\n",
      " 4   LotArea        1168 non-null   int64  \n",
      " 5   Street         1168 non-null   object \n",
      " 6   Alley          1168 non-null   object \n",
      " 7   LotShape       1168 non-null   object \n",
      " 8   LandContour    1168 non-null   object \n",
      " 9   Utilities      1168 non-null   object \n",
      " 10  LotConfig      1168 non-null   object \n",
      " 11  LandSlope      1168 non-null   object \n",
      " 12  Neighborhood   1168 non-null   object \n",
      " 13  Condition1     1168 non-null   object \n",
      " 14  Condition2     1168 non-null   object \n",
      " 15  BldgType       1168 non-null   object \n",
      " 16  HouseStyle     1168 non-null   object \n",
      " 17  OverallQual    1168 non-null   int64  \n",
      " 18  OverallCond    1168 non-null   int64  \n",
      " 19  YearBuilt      1168 non-null   int64  \n",
      " 20  YearRemodAdd   1168 non-null   int64  \n",
      " 21  RoofStyle      1168 non-null   object \n",
      " 22  RoofMatl       1168 non-null   object \n",
      " 23  Exterior1st    1168 non-null   object \n",
      " 24  Exterior2nd    1168 non-null   object \n",
      " 25  MasVnrType     1168 non-null   object \n",
      " 26  MasVnrArea     1160 non-null   float64\n",
      " 27  ExterQual      1168 non-null   object \n",
      " 28  ExterCond      1168 non-null   object \n",
      " 29  Foundation     1168 non-null   object \n",
      " 30  BsmtQual       1168 non-null   object \n",
      " 31  BsmtCond       1168 non-null   object \n",
      " 32  BsmtExposure   1168 non-null   object \n",
      " 33  BsmtFinType1   1168 non-null   object \n",
      " 34  BsmtFinSF1     1168 non-null   int64  \n",
      " 35  BsmtFinType2   1168 non-null   object \n",
      " 36  BsmtFinSF2     1168 non-null   int64  \n",
      " 37  BsmtUnfSF      1168 non-null   int64  \n",
      " 38  TotalBsmtSF    1168 non-null   int64  \n",
      " 39  Heating        1168 non-null   object \n",
      " 40  HeatingQC      1168 non-null   object \n",
      " 41  CentralAir     1168 non-null   object \n",
      " 42  Electrical     1168 non-null   object \n",
      " 43  1stFlrSF       1168 non-null   int64  \n",
      " 44  2ndFlrSF       1168 non-null   int64  \n",
      " 45  LowQualFinSF   1168 non-null   int64  \n",
      " 46  GrLivArea      1168 non-null   int64  \n",
      " 47  BsmtFullBath   1168 non-null   int64  \n",
      " 48  BsmtHalfBath   1168 non-null   int64  \n",
      " 49  FullBath       1168 non-null   int64  \n",
      " 50  HalfBath       1168 non-null   int64  \n",
      " 51  BedroomAbvGr   1168 non-null   int64  \n",
      " 52  KitchenAbvGr   1168 non-null   int64  \n",
      " 53  KitchenQual    1168 non-null   object \n",
      " 54  TotRmsAbvGrd   1168 non-null   int64  \n",
      " 55  Functional     1168 non-null   object \n",
      " 56  Fireplaces     1168 non-null   int64  \n",
      " 57  FireplaceQu    1168 non-null   object \n",
      " 58  GarageType     1168 non-null   object \n",
      " 59  GarageYrBlt    1107 non-null   float64\n",
      " 60  GarageFinish   1168 non-null   object \n",
      " 61  GarageCars     1168 non-null   int64  \n",
      " 62  GarageArea     1168 non-null   int64  \n",
      " 63  GarageQual     1168 non-null   object \n",
      " 64  GarageCond     1168 non-null   object \n",
      " 65  PavedDrive     1168 non-null   object \n",
      " 66  WoodDeckSF     1168 non-null   int64  \n",
      " 67  OpenPorchSF    1168 non-null   int64  \n",
      " 68  EnclosedPorch  1168 non-null   int64  \n",
      " 69  3SsnPorch      1168 non-null   int64  \n",
      " 70  ScreenPorch    1168 non-null   int64  \n",
      " 71  PoolArea       1168 non-null   int64  \n",
      " 72  PoolQC         1168 non-null   object \n",
      " 73  Fence          1168 non-null   object \n",
      " 74  MiscFeature    1168 non-null   object \n",
      " 75  MiscVal        1168 non-null   int64  \n",
      " 76  MoSold         1168 non-null   int64  \n",
      " 77  YrSold         1168 non-null   int64  \n",
      " 78  SaleType       1168 non-null   object \n",
      " 79  SaleCondition  1168 non-null   object \n",
      "dtypes: float64(3), int64(34), object(43)\n",
      "memory usage: 739.1+ KB\n"
     ]
    },
    {
     "name": "stderr",
     "output_type": "stream",
     "text": [
      "c:\\users\\my pc\\appdata\\local\\programs\\python\\python37\\lib\\site-packages\\pandas\\core\\series.py:4523: SettingWithCopyWarning: \n",
      "A value is trying to be set on a copy of a slice from a DataFrame\n",
      "\n",
      "See the caveats in the documentation: https://pandas.pydata.org/pandas-docs/stable/user_guide/indexing.html#returning-a-view-versus-a-copy\n",
      "  downcast=downcast,\n"
     ]
    }
   ],
   "source": [
    "#object values filling with mode\n",
    "object_cols = [cols for cols in X_train.columns if X_train[cols].dtype == \"object\"]\n",
    "for i in object_cols:\n",
    "    m = X_train[i].mode()[0]\n",
    "    X_train[i].fillna(m, inplace = True)\n",
    "    X_test[i].fillna(m, inplace = True)\n",
    "\n",
    "\n",
    "object_cols_test = [cols for cols in X_test.columns if X_test[cols].dtype in ['object']]\n",
    "for i in object_cols_test:\n",
    "    m = X_test[i].mode()[0]\n",
    "    X_test[i].fillna(m, inplace = True)\n",
    "print(object_cols)\n",
    "X_train.info()"
   ]
  },
  {
   "cell_type": "code",
   "execution_count": 4,
   "metadata": {},
   "outputs": [],
   "source": [
    "#int type missing values handling\n",
    "mis_col_int = [col for col in X_train.columns\n",
    "              if X_train[col].dtype in ['int64', 'float64']]\n",
    "for i in mis_col_int:\n",
    "    m = X_train[i].mean()\n",
    "    X_train[i].fillna(m, inplace = True )\n",
    "    X_test[i].fillna(m, inplace = True)\n",
    "    "
   ]
  },
  {
   "cell_type": "code",
   "execution_count": 5,
   "metadata": {},
   "outputs": [
    {
     "name": "stderr",
     "output_type": "stream",
     "text": [
      "c:\\users\\my pc\\appdata\\local\\programs\\python\\python37\\lib\\site-packages\\pandas\\core\\frame.py:4170: SettingWithCopyWarning: \n",
      "A value is trying to be set on a copy of a slice from a DataFrame\n",
      "\n",
      "See the caveats in the documentation: https://pandas.pydata.org/pandas-docs/stable/user_guide/indexing.html#returning-a-view-versus-a-copy\n",
      "  errors=errors,\n"
     ]
    }
   ],
   "source": [
    "'''now we have to check for cardinality of columns and then perform one hot encoding on columns with cardinality less than 10\n",
    "  and drop columns with cardinality greater than 10.'''\n",
    "low_car_cols = [col for col in X_train.columns if X_train[col].nunique()<10 and X_train[col].dtype == 'object']\n",
    "high_car_cols = [item for item in object_cols if item not in low_car_cols]\n",
    "\n",
    "X_train.drop(high_car_cols, axis = 1, inplace = True)\n",
    "X_val.drop(high_car_cols, axis = 1, inplace = True)\n",
    "X_test.drop(high_car_cols, axis = 1, inplace = True)\n",
    "\n",
    "X_train = pd.get_dummies(X_train)\n",
    "X_val = pd.get_dummies(X_val)\n",
    "X_test = pd.get_dummies(X_test)\n",
    "X_train, X_val = X_train.align(X_val, join = 'left', axis = 1)\n",
    "X_train, X_test = X_train.align(X_test, join = 'left', axis=1)\n",
    "\n"
   ]
  },
  {
   "cell_type": "code",
   "execution_count": 6,
   "metadata": {},
   "outputs": [
    {
     "name": "stdout",
     "output_type": "stream",
     "text": [
      "<class 'pandas.core.frame.DataFrame'>\n",
      "Int64Index: 1168 entries, 921 to 1061\n",
      "Columns: 231 entries, Id to SaleCondition_Partial\n",
      "dtypes: float64(3), int64(34), uint8(194)\n",
      "memory usage: 568.0 KB\n"
     ]
    }
   ],
   "source": [
    "X_train.info()\n",
    "col = [X_train.columns]"
   ]
  },
  {
   "cell_type": "code",
   "execution_count": 11,
   "metadata": {},
   "outputs": [
    {
     "name": "stderr",
     "output_type": "stream",
     "text": [
      "c:\\users\\my pc\\appdata\\local\\programs\\python\\python37\\lib\\site-packages\\sklearn\\utils\\extmath.py:847: RuntimeWarning: invalid value encountered in true_divide\n",
      "  updated_mean = (last_sum + new_sum) / updated_sample_count\n",
      "c:\\users\\my pc\\appdata\\local\\programs\\python\\python37\\lib\\site-packages\\sklearn\\utils\\extmath.py:689: RuntimeWarning: Degrees of freedom <= 0 for slice.\n",
      "  result = op(x, *args, **kwargs)\n"
     ]
    }
   ],
   "source": [
    "#Feature scaling\n",
    "from sklearn.preprocessing import StandardScaler\n",
    "std = StandardScaler()\n",
    "X_train = std.fit_transform(X_train)\n",
    "X_val = std.transform(X_val)\n",
    "X_test = std.fit_transform(X_test)"
   ]
  },
  {
   "cell_type": "code",
   "execution_count": 14,
   "metadata": {},
   "outputs": [
    {
     "name": "stdout",
     "output_type": "stream",
     "text": [
      "15961.449191994863\n"
     ]
    }
   ],
   "source": [
    "from xgboost import XGBRegressor\n",
    "from sklearn.metrics import mean_absolute_error\n",
    "model = XGBRegressor(n_estimators = 1000, learning_rate = 0.025)\n",
    "model.fit(X_train, y_train,\n",
    "         early_stopping_rounds = 5,\n",
    "         eval_set = [(X_val, y_val)],\n",
    "         verbose = False)\n",
    "predictions = model.predict(X_val)\n",
    "score = mean_absolute_error(predictions, y_val)\n",
    "print(score)"
   ]
  },
  {
   "cell_type": "code",
   "execution_count": 16,
   "metadata": {},
   "outputs": [
    {
     "data": {
      "text/plain": [
       "array([131381.67 , 158716.73 , 190283.05 , ..., 162067.4  , 114777.445,\n",
       "       234663.45 ], dtype=float32)"
      ]
     },
     "execution_count": 16,
     "metadata": {},
     "output_type": "execute_result"
    }
   ],
   "source": [
    "y_pred = model.predict(X_test)\n",
    "y_pred"
   ]
  },
  {
   "cell_type": "code",
   "execution_count": 18,
   "metadata": {},
   "outputs": [],
   "source": [
    "pred = pd.DataFrame(y_pred)\n",
    "sub_df = pd.read_csv('sample_submission.csv')\n",
    "df = pd.concat([sub_df['Id'], pred], axis = 1)\n",
    "df.columns = ['Id', 'SalePrice']\n",
    "df.to_csv('sample_submission.csv', index = False)"
   ]
  },
  {
   "cell_type": "code",
   "execution_count": null,
   "metadata": {},
   "outputs": [],
   "source": []
  }
 ],
 "metadata": {
  "kernelspec": {
   "display_name": "Python 3",
   "language": "python",
   "name": "python3"
  },
  "language_info": {
   "codemirror_mode": {
    "name": "ipython",
    "version": 3
   },
   "file_extension": ".py",
   "mimetype": "text/x-python",
   "name": "python",
   "nbconvert_exporter": "python",
   "pygments_lexer": "ipython3",
   "version": "3.7.9"
  }
 },
 "nbformat": 4,
 "nbformat_minor": 4
}
